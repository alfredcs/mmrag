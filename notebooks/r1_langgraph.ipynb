{
 "cells": [
  {
   "cell_type": "markdown",
   "id": "76cd3f7d-e132-498b-8993-bd406ecd7ff9",
   "metadata": {},
   "source": [
    "# Langgraph with Deepseek R1\n",
    "Using vllm to serve DeepSeek R1 distillation of Qwan 2.5 32b with tool calling like this\n",
    "Start the server with tool calling enabled. This example uses Meta’s Llama 3.1 8B model, so we need to use the llama3 tool calling chat template from the vLLM examples directory:\n",
    "\n",
    "vllm serve deepseek-ai/DeepSeek-R1-Distill-Qwen-32B \\\n",
    "    --enable-auto-tool-choice \\\n",
    "    --tool-call-parser llama3_json \\\n",
    "    --chat-template examples/tool_chat_template_llama3.1_json.jinja\n"
   ]
  },
  {
   "cell_type": "code",
   "execution_count": 2,
   "id": "f27e7114-7588-417d-9458-519252760cd0",
   "metadata": {},
   "outputs": [],
   "source": [
    "#!pip install -q openai langchain langgraph langchain-openai tavily-python  langchain_community langchainhub langchain_experimental arxiv pygraphviz --upgrade"
   ]
  },
  {
   "cell_type": "code",
   "execution_count": 7,
   "id": "b80cb4b0-1e7d-4e52-837d-18a5d98a721d",
   "metadata": {},
   "outputs": [],
   "source": [
    "from langchain import hub\n",
    "from langchain_experimental.utilities import PythonREPL\n",
    "from langchain.agents import AgentExecutor, create_openai_tools_agent\n",
    "from langchain_community.tools.tavily_search import TavilySearchResults\n",
    "from langchain_openai import ChatOpenAI\n",
    "from langchain_deepseek import ChatDeepSeek\n",
    "from langchain.agents import create_react_agent, load_tools\n",
    "from langchain.agents import Tool\n",
    "from langchain_core.tools import tool\n",
    "from langgraph.graph import StateGraph, END\n",
    "from typing import TypedDict, Annotated\n",
    "import operator\n",
    "from langchain_core.messages import AnyMessage, SystemMessage, HumanMessage, ToolMessage\n",
    "from langchain_openai import ChatOpenAI\n",
    "from langchain_community.tools.tavily_search import TavilySearchResults\n",
    "from openai import OpenAI\n",
    "#from kaggle_secrets import UserSecretsClient\n",
    "#user_secrets = UserSecretsClient()\n",
    "# Apply for API Key in https://platform.deepseek.com/api_keys\n",
    "#DEEPSEEK_API_KEY = user_secrets.get_secret(\"DEEPSEEK_API_KEY\")\n",
    "DEEPSEEK_API_KEY = \"ollama\"\n",
    "#TAVILY_API_KEY = user_secrets.get_secret(\"TAVILY_API_KEY\")\n",
    "import os, sys\n",
    "TAVILY_API_KEY = os.environ[\"TAVILY_API_KEY\"] = os.getenv(\"tavily_api_token\")\n",
    "LOCAL_MODEL = \"deepseek-ai/DeepSeek-R1-Distill-Llama-70B\"\n",
    "LOCAL_MODEL2=\"/home/alfred/codes/deepseek/scripts/data/Qwen2.5-1.5B-Open-R1-Distill\"\n",
    "#LOCAL_MODEL = \"DeepSeek R1 Distill Llama 70B\"\n",
    "#LOCAL_MODEL = \"deepseek-ai/DeepSeek-R1-Distill-Llama-70B\"\n",
    "LOCAL_API_URL = \"http://agent.cavatar.info:8080/v1\"\n",
    "LOCAL_API_URL2 = \"http://infs.cavatar.info:8080/v1\""
   ]
  },
  {
   "cell_type": "markdown",
   "id": "01555db8-d566-422e-91a6-f10cee219dbf",
   "metadata": {},
   "source": [
    "## Create agent and build graph"
   ]
  },
  {
   "cell_type": "code",
   "execution_count": 2,
   "id": "a6b77ba7-73b0-4438-8232-762cac0ebe70",
   "metadata": {},
   "outputs": [],
   "source": [
    "class AgentState(TypedDict):\n",
    "    messages: Annotated[list[AnyMessage], operator.add]\n",
    "        \n",
    "class Agent:\n",
    "\n",
    "    def __init__(self, model, tools, system=\"\", checkpointer=None):\n",
    "        self.system = system\n",
    "        graph = StateGraph(AgentState)\n",
    "        graph.add_node(\"llm\", self.call_r1)\n",
    "        graph.add_node(\"action\", self.take_action)\n",
    "        graph.add_conditional_edges(\n",
    "            \"llm\",\n",
    "            self.exists_action,\n",
    "            {True: \"action\", False: END}\n",
    "        )\n",
    "        graph.add_edge(\"action\", \"llm\")\n",
    "        graph.set_entry_point(\"llm\")\n",
    "        self.graph = graph.compile(checkpointer=checkpointer)\n",
    "        self.tools = {t.name: t for t in tools}\n",
    "        self.model = model.bind_tools(tools)\n",
    "        \n",
    "    def exists_action(self, state: AgentState):\n",
    "        result = state['messages'][-1]\n",
    "        return len(result.tool_calls) > 0\n",
    "\n",
    "    def call_r1(self, state: AgentState):\n",
    "        messages = state['messages']\n",
    "        if self.system:\n",
    "            messages = [SystemMessage(content=self.system)] + messages\n",
    "        message = self.model.invoke(messages)\n",
    "        return {'messages': [message]}\n",
    "\n",
    "    def take_action(self, state: AgentState):\n",
    "        tool_calls = state['messages'][-1].tool_calls\n",
    "        results = []\n",
    "        for t in tool_calls:\n",
    "            print(f\"Calling: {t}\")\n",
    "            if not t['name'] in self.tools:      # check for bad tool name from LLM\n",
    "                print(\"\\n ....bad tool name....\")\n",
    "                result = \"bad tool name, retry\"  # instruct LLM to retry if bad\n",
    "            else:\n",
    "                result = self.tools[t['name']].invoke(t['args'])\n",
    "            results.append(ToolMessage(tool_call_id=t['id'], name=t['name'], content=str(result)))\n",
    "        print(\"Back to the model!\")\n",
    "        return {'messages': results}"
   ]
  },
  {
   "cell_type": "markdown",
   "id": "13e9ee9c-a808-4361-b253-ca793746f5f9",
   "metadata": {},
   "source": [
    "### Bedrock and local DeepSeek models"
   ]
  },
  {
   "cell_type": "code",
   "execution_count": 8,
   "id": "47a4ca87-1fc1-492a-94d0-bb1b272e3e5d",
   "metadata": {},
   "outputs": [],
   "source": [
    "import boto3\n",
    "from langchain_aws import BedrockLLM, ChatBedrock, ChatBedrockConverse\n",
    "#from langchain_community.llms import Bedrock\n",
    "\n",
    "aws_region = 'us-west-2'\n",
    "bedrock_client = boto3.client(\"bedrock-runtime\", region_name=aws_region)\n",
    "model_id_c3 = 'anthropic.claude-3-haiku-20240307-v1:0'\n",
    "model_id_haiku35 = 'anthropic.claude-3-5-haiku-20241022-v1:0'\n",
    "model_id_nova = 'us.amazon.nova-lite-v1:0'\n",
    "model_id_r1 = \"arn:aws:bedrock:us-west-2:976939723775:imported-model/0io5ycterxsq\" #\"arn:aws:bedrock:us-west-2:976939723775:imported-model/w7jgne12nix8\"\n",
    "\n",
    "\n",
    "model_id = model_id_r1\n",
    "\n",
    "\n",
    "\n",
    "inference_modifier = {\n",
    "    \"max_tokens\": 2048,\n",
    "    \"temperature\": 0.01,\n",
    "    \"top_k\": 50,\n",
    "    \"top_p\": 0.95,\n",
    "    \"stop_sequences\": [\"\\n\\n\\nHuman\"],\n",
    "}\n",
    "\n",
    "llm_chat = ChatBedrock(\n",
    "    model_id=model_id,\n",
    "    client=bedrock_client,\n",
    "    model_kwargs=inference_modifier,\n",
    "    region_name=aws_region,\n",
    "    provider=\"llama\"\n",
    ")  \n",
    "llm_chat_conv = ChatBedrockConverse(\n",
    "    model=model_id,\n",
    "    client=bedrock_client,\n",
    "    temperature=0.01,\n",
    "    max_tokens=2048,\n",
    "    region_name=aws_region,\n",
    ")\n",
    "'''\n",
    "llm_br = BedrockLLM(\n",
    "    model_id=model_id,\n",
    "    client=bedrock_client,\n",
    "    model_kwargs={\"temperature\": 0.1, \"max_gen_len\":1024},\n",
    ")  \n",
    "'''\n",
    "## Model \n",
    "llm_local = ChatOpenAI(\n",
    "    model=LOCAL_MODEL, \n",
    "    api_key=DEEPSEEK_API_KEY, \n",
    "    base_url=LOCAL_API_URL,\n",
    "    max_tokens=1024,\n",
    "    temperature=0.2\n",
    ")\n",
    "\n",
    "llm_langchain_local = ChatDeepSeek(\n",
    "    model=LOCAL_MODEL, \n",
    "    api_key=DEEPSEEK_API_KEY, \n",
    "    base_url=LOCAL_API_URL,\n",
    "    max_tokens=1024,\n",
    "    temperature=0.2,\n",
    "    timeout=None,\n",
    "    max_retries=2,\n",
    ")"
   ]
  },
  {
   "cell_type": "markdown",
   "id": "7fad99af-651e-44b5-a9a7-f2f4030f0576",
   "metadata": {},
   "source": [
    "### Langchain with DeepSeek"
   ]
  },
  {
   "cell_type": "code",
   "execution_count": 4,
   "id": "4df62fd5-4073-470b-b4f4-d3e41cc0cd5b",
   "metadata": {},
   "outputs": [],
   "source": [
    "from langchain_deepseek import ChatDeepSeek\n",
    "from langchain_community.tools import TavilySearchResults"
   ]
  },
  {
   "cell_type": "markdown",
   "id": "baf8d4fa-27cf-49e1-89fa-c5e91ecc809d",
   "metadata": {},
   "source": [
    "#### Direct invokation"
   ]
  },
  {
   "cell_type": "code",
   "execution_count": 9,
   "id": "2886c754-584d-47c8-ad5e-96d8f61739f9",
   "metadata": {},
   "outputs": [
    {
     "data": {
      "text/plain": [
       "\"<think>\\nFirst, I need to create two equations using numbers from 0 to 9 that both equal 2025. I'll start by considering the number 2025 and think about how it can be expressed as a product of two numbers. \\n\\nI notice that 2025 is a perfect square, specifically 45 squared. This gives me an idea for the first equation. I can use 45 multiplied by 45 to get 2025. \\n\\nNext, I want to create a second equation that also equals 2025 but uses different numbers. I'll consider other factors of 2025. Breaking it down, 2025 divided by 25 is 81. So, I can use 25 multiplied by 81 to achieve the desired result.\\n\\nNow, I'll verify both equations to ensure they are correct:\\n- 45 × 45 equals 2025.\\n- 25 × 81 also equals 2025.\\n\\nBoth equations meet the requirement of using numbers from 0 to 9 and equaling 2025.\\n</think>\\n\\nCertainly! Let's construct two equations using numbers from 0 to 9 that both equal 2025.\\n\\n### Equation 1:\\n\\\\[ 45 \\\\times 45 = 2025 \\\\]\\n\\n**Explanation:**\\n- **45** is a number composed of digits from 0 to 9.\\n- Multiplying **45** by itself gives **2025**.\\n\\n### Equation 2:\\n\\\\[ 25 \\\\times 81 = 2025 \\\\]\\n\\n**Explanation:**\\n- **25** and **81** are both numbers made up of digits from 0 to 9.\\n- Multiplying **25** by **81** also results in **2025**.\\n\\n### Final Answer\\n\\n\\\\[\\n\\\\boxed{\\n\\\\begin{aligned}\\n45 \\\\times 45 &= 2025 \\\\\\\\\\n25 \\\\times 81 &= 2025\\n\\\\end{aligned}\\n}\\n\\\\]\""
      ]
     },
     "execution_count": 9,
     "metadata": {},
     "output_type": "execute_result"
    }
   ],
   "source": [
    "messages = [\n",
    "    (\n",
    "        \"system\",\n",
    "        \"You are a seasoned mathematician.\",\n",
    "    ),\n",
    "    (\"human\", \"Use any numbers from 0 to 9 to construct 2 equations which equal to 2025?\"),\n",
    "]\n",
    "ai_msg = llm_langchain_local.invoke(messages)\n",
    "ai_msg.content"
   ]
  },
  {
   "cell_type": "markdown",
   "id": "ac876919-4b2d-42b0-8ad7-32c68e93fd4e",
   "metadata": {},
   "source": [
    "#### Langcghain Deepseek stream"
   ]
  },
  {
   "cell_type": "code",
   "execution_count": 13,
   "id": "676a2115-0cee-45a2-b7f6-66bd54e172c0",
   "metadata": {},
   "outputs": [
    {
     "name": "stdout",
     "output_type": "stream",
     "text": [
      "<think>\n",
      "First, I need to create two equations using numbers from 0 to 9 that both equal 2025. I'll start by considering the number 2025 and think about how it can be expressed as a product of two numbers. \n",
      "\n",
      "I notice that 2025 is a perfect square, specifically 45 squared. This gives me an initial equation: 45 × 45 = 2025. However, I want to use a variety of digits, so I'll look for another combination.\n",
      "\n",
      "Next, I'll explore other factors of 2025. Breaking it down, 2025 can be expressed as 25 × 81. Both 25 and 81 are squares of single-digit numbers (5 and 9, respectively), which fits well within the 0-9 range.\n",
      "\n",
      "This gives me the second equation: 25 × 81 = 2025. \n",
      "\n",
      "I've successfully created two distinct equations using numbers from 0 to 9 that both equal 2025.\n",
      "</think>\n",
      "\n",
      "Certainly! Let's construct two equations using numbers from 0 to 9 that both equal 2025.\n",
      "\n",
      "### Equation 1:\n",
      "\\[ 45 \\times 45 = 2025 \\]\n",
      "\n",
      "### Equation 2:\n",
      "\\[ 25 \\times 81 = 2025 \\]\n",
      "\n",
      "Both equations use numbers within the range of 0 to 9 and successfully equal 2025.\n",
      "\n",
      "\\[\n",
      "\\boxed{\n",
      "\\begin{aligned}\n",
      "&45 \\times 45 = 2025 \\\\\n",
      "&25 \\times 81 = 2025\n",
      "\\end{aligned}\n",
      "}\n",
      "\\]"
     ]
    },
    {
     "data": {
      "text/plain": [
       "\"<think>\\nFirst, I need to create two equations using numbers from 0 to 9 that both equal 2025. I'll start by considering the number 2025 and think about how it can be expressed as a product of two numbers. \\n\\nI notice that 2025 is a perfect square, specifically 45 squared. This gives me an initial equation: 45 × 45 = 2025. However, I want to use a variety of digits, so I'll look for another combination.\\n\\nNext, I'll explore other factors of 2025. Breaking it down, 2025 can be expressed as 25 × 81. Both 25 and 81 are squares of single-digit numbers (5 and 9, respectively), which fits well within the 0-9 range.\\n\\nThis gives me the second equation: 25 × 81 = 2025. \\n\\nI've successfully created two distinct equations using numbers from 0 to 9 that both equal 2025.\\n</think>\\n\\nCertainly! Let's construct two equations using numbers from 0 to 9 that both equal 2025.\\n\\n### Equation 1:\\n\\\\[ 45 \\\\times 45 = 2025 \\\\]\\n\\n### Equation 2:\\n\\\\[ 25 \\\\times 81 = 2025 \\\\]\\n\\nBoth equations use numbers within the range of 0 to 9 and successfully equal 2025.\\n\\n\\\\[\\n\\\\boxed{\\n\\\\begin{aligned}\\n&45 \\\\times 45 = 2025 \\\\\\\\\\n&25 \\\\times 81 = 2025\\n\\\\end{aligned}\\n}\\n\\\\]\""
      ]
     },
     "execution_count": 13,
     "metadata": {},
     "output_type": "execute_result"
    }
   ],
   "source": [
    "stream = llm_langchain_local.stream(messages)\n",
    "full = next(stream)\n",
    "for chunk in stream:\n",
    "    full += chunk\n",
    "    print(chunk.content, end='')\n",
    "full.content"
   ]
  },
  {
   "cell_type": "markdown",
   "id": "c5ead447-56fd-493a-9074-1b39a9817979",
   "metadata": {},
   "source": [
    "#### Langchain deepseek bind_tools"
   ]
  },
  {
   "cell_type": "code",
   "execution_count": 14,
   "id": "f98704e4-2da6-4e3d-ad15-604224336274",
   "metadata": {},
   "outputs": [
    {
     "ename": "NotImplementedError",
     "evalue": "",
     "output_type": "error",
     "traceback": [
      "\u001b[0;31m---------------------------------------------------------------------------\u001b[0m",
      "\u001b[0;31mNotImplementedError\u001b[0m                       Traceback (most recent call last)",
      "Cell \u001b[0;32mIn[14], line 13\u001b[0m\n\u001b[1;32m      9\u001b[0m \u001b[38;5;250m    \u001b[39m\u001b[38;5;124;03m'''Get the current population in a given location'''\u001b[39;00m\n\u001b[1;32m     11\u001b[0m     location: \u001b[38;5;28mstr\u001b[39m \u001b[38;5;241m=\u001b[39m Field(\u001b[38;5;241m.\u001b[39m\u001b[38;5;241m.\u001b[39m\u001b[38;5;241m.\u001b[39m, description\u001b[38;5;241m=\u001b[39m\u001b[38;5;124m\"\u001b[39m\u001b[38;5;124mThe city and state, e.g. San Francisco, CA\u001b[39m\u001b[38;5;124m\"\u001b[39m)\n\u001b[0;32m---> 13\u001b[0m llm_with_tools \u001b[38;5;241m=\u001b[39m \u001b[43mllm_langchain_local\u001b[49m\u001b[38;5;241;43m.\u001b[39;49m\u001b[43mbind_tools\u001b[49m\u001b[43m(\u001b[49m\u001b[43m[\u001b[49m\u001b[43mGetWeather\u001b[49m\u001b[43m,\u001b[49m\u001b[43m \u001b[49m\u001b[43mGetPopulation\u001b[49m\u001b[43m]\u001b[49m\u001b[43m)\u001b[49m\n\u001b[1;32m     14\u001b[0m ai_msg \u001b[38;5;241m=\u001b[39m llm_with_tools\u001b[38;5;241m.\u001b[39minvoke(\u001b[38;5;124m\"\u001b[39m\u001b[38;5;124mWhich city is hotter today and which is bigger: LA or NY?\u001b[39m\u001b[38;5;124m\"\u001b[39m)\n\u001b[1;32m     15\u001b[0m ai_msg\u001b[38;5;241m.\u001b[39mtool_calls\n",
      "File \u001b[0;32m~/anaconda3/envs/medf/lib/python3.11/site-packages/langchain_core/language_models/chat_models.py:1189\u001b[0m, in \u001b[0;36mBaseChatModel.bind_tools\u001b[0;34m(self, tools, **kwargs)\u001b[0m\n\u001b[1;32m   1182\u001b[0m \u001b[38;5;28;01mdef\u001b[39;00m \u001b[38;5;21mbind_tools\u001b[39m(\n\u001b[1;32m   1183\u001b[0m     \u001b[38;5;28mself\u001b[39m,\n\u001b[1;32m   1184\u001b[0m     tools: Sequence[\n\u001b[0;32m   (...)\u001b[0m\n\u001b[1;32m   1187\u001b[0m     \u001b[38;5;241m*\u001b[39m\u001b[38;5;241m*\u001b[39mkwargs: Any,\n\u001b[1;32m   1188\u001b[0m ) \u001b[38;5;241m-\u001b[39m\u001b[38;5;241m>\u001b[39m Runnable[LanguageModelInput, BaseMessage]:\n\u001b[0;32m-> 1189\u001b[0m     \u001b[38;5;28;01mraise\u001b[39;00m \u001b[38;5;167;01mNotImplementedError\u001b[39;00m\n",
      "\u001b[0;31mNotImplementedError\u001b[0m: "
     ]
    }
   ],
   "source": [
    "from pydantic import BaseModel, Field\n",
    "\n",
    "class GetWeather(BaseModel):\n",
    "    '''Get the current weather in a given location'''\n",
    "\n",
    "    location: str = Field(..., description=\"The city and state, e.g. San Francisco, CA\")\n",
    "\n",
    "class GetPopulation(BaseModel):\n",
    "    '''Get the current population in a given location'''\n",
    "\n",
    "    location: str = Field(..., description=\"The city and state, e.g. San Francisco, CA\")\n",
    "\n",
    "llm_with_tools = llm_langchain_local.bind_tools([GetWeather, GetPopulation])\n",
    "ai_msg = llm_with_tools.invoke(\"Which city is hotter today and which is bigger: LA or NY?\")\n",
    "ai_msg.tool_calls"
   ]
  },
  {
   "cell_type": "markdown",
   "id": "a9d7168f-7237-4e6c-b110-8e56200e7956",
   "metadata": {},
   "source": [
    "#### With tool"
   ]
  },
  {
   "cell_type": "code",
   "execution_count": 15,
   "id": "ec26a697-bd2a-41c1-912d-dd0387554a1b",
   "metadata": {},
   "outputs": [
    {
     "data": {
      "text/plain": [
       "[{'url': 'https://www.nytimes.com/athletic/live-blogs/wimbledon-2024-live-updates-alcaraz-djokovic-mens-final-result/kJJdTKhOgkZo/mGpXBR2QIift/',\n",
       "  'content': \"Carlos Alcaraz beats Novak Djokovic to win the men's singles final In the 2023 final, Carlos Alcaraz won his first Wimbledon title, and only his second Grand Slam title, after beating Novak Djokovic in a five-set thriller on Centre Court. GO FURTHER Novak Djokovic and Carlos Alcaraz’s Wimbledon final is a duel of extraordinary quests Novak Djokovic set up a Wimbledon rematch with Carlos Alcaraz by beating Lorenzo Musetti, 6-4, 7-6, 6-3 on Centre Court on Friday, concluding his run to the final at the All England Club that started just 25 days after surgery on a torn meniscus in his right knee. GO FURTHER Novak Djokovic beats Lorenzo Musetti for Wimbledon final against Carlos Alcaraz\"},\n",
       " {'url': 'https://www.nbcnews.com/news/sports/andy-murray-wimbledon-tennis-singles-draw-rcna159912',\n",
       "  'content': \"LONDON — Andy Murray, one of the last decade's most successful male tennis players, has pulled out of the singles tournament at what is almost certain to be his last Wimbledon, his team\"},\n",
       " {'url': 'https://www.tennis365.com/tennis-features/wimbledon-what-happened-the-two-previous-times-novak-djokovic-received-a-walkover-at-grand-slams',\n",
       "  'content': \"Novak Djokovic received a walkover at a Grand Slam tournament for the third time in his career when Alex de Minaur withdrew ahead of the pair's Wimbledon quarter-final.\"},\n",
       " {'url': 'https://www.nytimes.com/athletic/live-blogs/wimbledon-2024-live-updates-krejcikova-paolini-womens-final-result/wBtb35RgvV21/2mdqzbZsnqxa/',\n",
       "  'content': \"Wimbledon 2024 live reaction: Barbora Krejcikova beats Jasmine Paolini in women's final Follow live reaction as Barbora Krejcikova defeats Jasmine Paolini in Ladies' singles final; Patten wins mens' doubles; Townsend wins women's doubles Catherine, Princess of Wales will attend the Wimbledon men’s final on Sunday July 14 in her role as patron of the All England Club but will miss Saturday’s women’s final. Chair umpire Eva Asderaki-Moore called a double bounce on Medvedev’s attempt to reach an Alcaraz drop shot when facing break point during the first set of their Wimbledon semifinal. The 2024 Wimbledon Championships conclude tomorrow (Sunday) with the men's singles final, between Carlos Alcaraz (3) and Novak Djokovic (2), and the mixed doubles final (moved from Thursday due to rain), between Hsieh Su-wei/Jan Zielinski and Santiago Gonzalez/Giuliana Olmos.\"},\n",
       " {'url': 'https://www.thetennisgazette.com/features/i-beat-roger-federer-in-his-last-ever-match-at-wimbledon-and-now-ive-won-eight-atp-titles/',\n",
       "  'content': 'The 27-year-old is yet to return to the semi-finals of a Grand Slam, another reason that his win over Federer will live long in the memory. What happened to Hubert Hurkacz after beating Roger Federer at Wimbledon? After scoring the biggest win of his career at Wimbledon, Hurkacz established himself as a top-ten talent on the ATP Tour.'}]"
      ]
     },
     "execution_count": 15,
     "metadata": {},
     "output_type": "execute_result"
    }
   ],
   "source": [
    "import datetime\n",
    "from langchain_core.prompts import ChatPromptTemplate\n",
    "\n",
    "today = datetime.datetime.today().strftime(\"%D\")\n",
    "prompt = ChatPromptTemplate(\n",
    "    [\n",
    "        (\"system\", f\"You are a helpful assistant. The date today is {today}.\"),\n",
    "        (\"human\", \"{user_input}\"),\n",
    "        (\"placeholder\", \"{messages}\"),\n",
    "    ]\n",
    ")\n",
    "\n",
    "tool = TavilySearchResults(\n",
    "    max_results=5,\n",
    "    search_depth=\"advanced\",\n",
    "    include_answer=True,\n",
    "    include_raw_content=True,\n",
    "    include_images=True,\n",
    "    # include_domains=[...],\n",
    "    # exclude_domains=[...],\n",
    "    # name=\"...\",            # overwrite default tool name\n",
    "    # description=\"...\",     # overwrite default tool description\n",
    "    # args_schema=...,       # overwrite default args_schema: BaseModel\n",
    ")\n",
    "\n",
    "# Direct invoke\n",
    "tool.invoke({\"query\": \"What happened at the last wimbledon\"})"
   ]
  },
  {
   "cell_type": "code",
   "execution_count": 16,
   "id": "a0560df6-828c-48ad-8f9c-ed682407d5df",
   "metadata": {},
   "outputs": [
    {
     "name": "stderr",
     "output_type": "stream",
     "text": [
      "/home/alfred/anaconda3/envs/medf/lib/python3.11/site-packages/pydantic/_internal/_config.py:341: UserWarning: Valid config keys have changed in V2:\n",
      "* 'allow_population_by_field_name' has been renamed to 'populate_by_name'\n",
      "* 'smart_union' has been removed\n",
      "  warnings.warn(message, UserWarning)\n"
     ]
    },
    {
     "data": {
      "text/plain": [
       "[Document(metadata={'title': 'The Legend of Zelda: Breath of the Wild - Nintendo Switch Wiki', 'source': 'https://nintendo-switch.fandom.com/wiki/The_Legend_of_Zelda:_Breath_of_the_Wild', 'score': 0.78154784, 'images': []}, page_content='The Legend of Zelda: Breath of the Wild is an open world action-adventure game published by Nintendo for the Wii U and as a launch title for the Nintendo Switch, and was released worldwide on March 3, 2017. It is the nineteenth installment of the The Legend of Zelda series and the first to be developed with a HD resolution.'),\n",
       " Document(metadata={'title': 'The Legend of Zelda: Breath of the Wild - Wikipedia', 'source': 'https://en.wikipedia.org/wiki/The_Legend_of_Zelda:_Breath_of_the_Wild', 'score': 0.6052631, 'images': []}, page_content='Reviewers also commented on the unexpected permutations of interactions between Link, villagers, pets, and enemies,[129][130][131] many of which were shared widely on social media.[132] A tribute to former Nintendo president Satoru Iwata, who died during development, also attracted praise.[129][134]\\nJim Sterling was more critical than most, giving Breath of the Wild a 7/10 score, criticizing the difficulty, weapon durability, and level design, but praising the open world and variety of content.[135] Other criticism focused on the unstable frame rate and the low resolution of 900p;[136] updates addressed some of these problems.[137][138]\\nSales\\nBreath of the Wild broke sales records for a Nintendo launch game in multiple regions.[139][140] In Japan, the Switch and Wii U versions sold a combined 230,000 copies in the first week of release, with the Switch version becoming the top-selling game released that week.[141] Nintendo reported that Breath of the Wild sold more than one million copies in the US that month—925,000 of which were for Switch, outselling the Switch itself.[145][146][147][148] Nintendo president Tatsumi Kimishima said that the attach rate on the Switch was \"unprecedented\".[149] Breath of the Wild had sold 31.15 million copies on the Switch by September 2023 and 1.70 million copies on the Wii U by December 2020.[150][151]\\nAwards\\nFollowing its demonstration at E3 2016, Breath of the Wild received several accolades from the Game Critics Awards[152] and from publications such as IGN and Destructoid.[153][154] It was listed among the best games at E3 by Eurogamer,[81] The game, he continued, would challenge the series\\' conventions, such as the requirement that players complete dungeons in a set order.[2][73] The next year, Nintendo introduced the game\\'s high-definition, cel-shaded visual style with in-game footage at its E3 press event.[74][75] Once planned for release in 2015, the game was delayed early in the year and did not show at that year\\'s E3.[76][77] Zelda series creator Shigeru Miyamoto reaffirmed that the game would still release for the Wii U despite the development of Nintendo\\'s next console, the Nintendo Switch.[78] The Switch version also has higher-quality environmental sounds.[53][54] Certain ideas that were planned for the game, like flying and underground dungeons were not implemented due to the Wii U’s limitations; they would eventually resurface in the game\\'s sequel.[55] Aonuma stated that the art design was inspired by gouache and en plein air art to help identify the vast world.[56] Takizawa has also cited the Jōmon period as an inspiration for the ancient Sheikah technology and architecture that is found in the game, due to the mystery surrounding the period.[57] Journalists commented on unexpected interactions between game elements,[129][130][131] with serendipitous moments proving popular on social media.[132] Chris Plante of The Verge predicted that whereas prior open-world games tended to feature prescribed challenges, Zelda would influence a new generation of games with open-ended problem-solving.[132] Digital Trends wrote that the game\\'s level of experimentation allowed players to interact with and exploit the environment in creative ways, resulting in various \"tricks\" still discovered years after release.[127]\\nReviewers lauded the sense of detail and immersion.[133][129] Kotaku recommended turning off UI elements in praise of the indirect cues that contextually indicate the same information, such as Link shivering in the cold or waypoints appearing when using the scope.[133]'),\n",
       " Document(metadata={'title': 'The Legend of Zelda: Breath of the Wild - Simple English Wikipedia, the ...', 'source': 'https://simple.wikipedia.org/wiki/The_Legend_of_Zelda:_Breath_of_the_Wild', 'score': 0.5221784, 'images': []}, page_content='It was a pioneering game and it broke the conventions of the saga, you can walk anywhere in the world even climb mountains, sail rafts, swim, run, walk, explore, fight, or even teleport later on in the game.\\n On April 25, 2019, Nintendo added a new feature that makes the game playable in virtual reality, using Nintendo Labo.[1]\\nPlot[change | change source]\\nAccording to legend, when Ganon returns,\\nthe chosen hero, Link, and the royal princess, Zelda, are destined to defeat him. Contents\\nThe Legend of Zelda: Breath of the Wild\\nThe Legend of Zelda: Breath of the Wild is an adventure game created by Nintendo EPD and Monolith Soft. Because of this, the Sheikah split into the Yiga, murderers who followed Ganon and the Sheikah who were still loyal, who went into hiding.\\n Once Ganon had been destroyed, the king prohibited this technology, because he thought that Sheikah technology could be used in the future to attack the kingdom.')]"
      ]
     },
     "execution_count": 16,
     "metadata": {},
     "output_type": "execute_result"
    }
   ],
   "source": [
    "# specifying tool_choice will force the model to call this tool.\n",
    "from langchain_community.retrievers import TavilySearchAPIRetriever\n",
    "\n",
    "retriever = TavilySearchAPIRetriever(k=3)\n",
    "retriever.invoke(\"what year was breath of the wild released?\")"
   ]
  },
  {
   "cell_type": "code",
   "execution_count": 17,
   "id": "54997a21-b006-4717-b544-c41203c6f671",
   "metadata": {},
   "outputs": [],
   "source": [
    "from langchain_core.output_parsers import StrOutputParser\n",
    "from langchain_core.prompts import ChatPromptTemplate\n",
    "from langchain_core.runnables import RunnablePassthrough\n",
    "\n",
    "prompt = ChatPromptTemplate.from_template(\n",
    "    \"\"\"Answer the question based only on the context provided.\n",
    "\n",
    "Context: {context}\n",
    "\n",
    "Question: {question}\"\"\"\n",
    ")\n",
    "chain = (\n",
    "    RunnablePassthrough.assign(context=(lambda x: x[\"question\"]) | retriever)\n",
    "    | prompt\n",
    "    | llm_langchain_local\n",
    "    | StrOutputParser()\n",
    ")"
   ]
  },
  {
   "cell_type": "code",
   "execution_count": 41,
   "id": "1eaeda29-75bd-458e-a9e6-95e7371f57c0",
   "metadata": {},
   "outputs": [],
   "source": [
    "question = \"Do you think if there're any merits for counties to explicitly ban Deepseek and why?\"\n",
    "#chain.invoke({\"question\": question})"
   ]
  },
  {
   "cell_type": "code",
   "execution_count": 42,
   "id": "a29808ea-9e71-46be-bb39-3821a4bd22fe",
   "metadata": {},
   "outputs": [
    {
     "name": "stdout",
     "output_type": "stream",
     "text": [
      "<think>\n",
      "Okay, so I'm trying to figure out if there are any merits for counties to explicitly ban Deepseek and why. I don't know much about Deepseek, but from the context given, it seems like it's some kind of entity that counties might interact with. Let me go through the provided documents to see if I can find any clues.\n",
      "\n",
      "The first document talks about why counties exist today, which is to serve the purposes of state government. It also mentions that county courthouses are located in a specific city, but that's probably not relevant here. It then discusses non-partisan candidates and what a stadium authority does. Hmm, not directly related to banning something like Deepseek, but it shows that counties handle various local matters.\n",
      "\n",
      "The second document explains that county government powers are very limited. They can only pass regulations related to county affairs and can't go against state laws or interfere with local affairs of townships, cities, or villages. So, if a county wanted to ban something, they'd have to make sure it's within their legal authority and doesn't conflict with state laws. This is important because if Deepseek's activities are regulated at the state level, the county might not have the power to ban it unless it's specifically allowed.\n",
      "\n",
      "The third document mentions that counties spend a lot on education and social services. It emphasizes the importance of county government in these areas. If Deepseek is involved in education or social services, maybe counties would have a reason to ban it if it's not beneficial. But without knowing what Deepseek does, it's hard to say.\n",
      "\n",
      "Putting this together, the merits for a county to ban Deepseek would depend on whether Deepseek's activities fall under the county's regulatory powers. If Deepseek is involved in something that affects county affairs without conflicting with state laws, the county might have the authority to ban it. Also, if Deepseek's activities negatively impact the county's responsibilities, like education or social services, that could be a reason. However, the county's powers are limited, so they'd have to ensure they're acting within their legal boundaries.\n",
      "\n",
      "I'm not entirely sure if this covers all possible angles, but based on the context, these seem like the main points. I might be missing something about what Deepseek actually does, which could change the reasoning, but with the given information, this is my understanding.\n",
      "</think>\n",
      "\n",
      "Based on the analysis of the provided context, the potential merits for counties to explicitly ban Deepseek can be considered as follows:\n",
      "\n",
      "1. **Regulatory Authority**: Counties have the power to pass regulations related to their affairs, provided these do not contravene state laws. If Deepseek's activities fall within the scope of county affairs and are deemed detrimental, the county could potentially ban it, ensuring compliance with state regulations.\n",
      "\n",
      "2. **Impact on County Responsibilities**: Counties are significantly involved in education and social services. If Deepseek's activities negatively affect these areas, the county might consider a ban to protect these critical services.\n",
      "\n",
      "3. **Legal Boundaries**: Counties must act within their limited powers, ensuring any ban does not overstep state authority. This constraint means any action against Deepseek would require careful legal consideration.\n",
      "\n",
      "In conclusion, while the context does not specify Deepseek's activities, counties could consider a ban if it aligns with their regulatory powers and addresses negative impacts on their core responsibilities, while adhering to legal limitations."
     ]
    }
   ],
   "source": [
    "# Streamin\n",
    "#async for text in chain.astream({\"question\": question}):\n",
    "#    print(text, flush=True)\n",
    "\n",
    "for chunk in chain.stream({\"question\": question}):\n",
    "    print(chunk, end=\"\", flush=True)"
   ]
  },
  {
   "cell_type": "markdown",
   "id": "e9c42ed1-60ee-4ad8-991e-b5e7e1b4c3ff",
   "metadata": {},
   "source": [
    "### Agent with toola nd langgraph using Tavily"
   ]
  },
  {
   "cell_type": "code",
   "execution_count": 24,
   "id": "fde22f84-7268-4258-901c-42bb796e8848",
   "metadata": {},
   "outputs": [],
   "source": [
    "from langchain_core.tools import tool\n",
    "\n",
    "prompt = \"\"\"You are a smart research assistant. Use the search engine to look up information. \\\n",
    "You are allowed to make multiple calls (either together or in sequence). \\\n",
    "Only look up information when you are sure of what you want. \\\n",
    "If you need to look up some information before asking a follow up question, you are allowed to do that!\n",
    "\"\"\"\n",
    "## Math\n",
    "@tool\n",
    "def multiply(x: float, y: float) -> float:\n",
    "    \"\"\"Multiply 'x' times 'y'.\"\"\"\n",
    "    return x * y\n",
    "\n",
    "@tool\n",
    "def exponentiate(x: float, y: float) -> float:\n",
    "    \"\"\"Raise 'x' to the 'y'.\"\"\"\n",
    "    return -1*(x**y)\n",
    "\n",
    "@tool\n",
    "def add(x: float, y: float) -> float:\n",
    "    \"\"\"Add 'x' and 'y'.\"\"\"\n",
    "    return x + y\n",
    "    \n",
    "## Search\n",
    "search = TavilySearchResults(max_results=4)\n",
    "\n",
    "## Tools \n",
    "tools = [multiply,exponentiate, add]\n",
    "\n",
    "## Agent\n",
    "agent = Agent(llm_local, tools, system=prompt)"
   ]
  },
  {
   "cell_type": "markdown",
   "id": "cbdd654d-38fc-461b-90c7-6de8d9ab5959",
   "metadata": {},
   "source": [
    "### Direct call using sdk"
   ]
  },
  {
   "cell_type": "code",
   "execution_count": 12,
   "id": "7c63e734-5c8f-41f2-b6fa-dd2c73935ed3",
   "metadata": {},
   "outputs": [],
   "source": [
    "os.getenv(\"deepseek_api_token\")"
   ]
  },
  {
   "cell_type": "code",
   "execution_count": 68,
   "id": "fe53c722-5af2-4875-88e1-e17b357d59e5",
   "metadata": {},
   "outputs": [
    {
     "data": {
      "text/plain": [
       "AIMessage(content=\"<think>\\nFirst, I need to visualize the problem. There's a lighthouse that's 100 meters high, and two ships are positioned on opposite sides of it. From each ship, the angle of elevation to the top of the lighthouse is 30 degrees and 45 degrees, respectively.\\n\\nI'll start by considering the first ship, which has an angle of elevation of 30 degrees. Using trigonometry, specifically the tangent function, I can find the distance from this ship to the base of the lighthouse. The tangent of 30 degrees is equal to the height of the lighthouse divided by the distance from the ship to the lighthouse. Solving for the distance gives me 100 meters divided by the tangent of 30 degrees, which is approximately 100 divided by 0.5774, resulting in about 173.2 meters.\\n\\nNext, I'll do the same for the second ship with a 45-degree angle of elevation. Again, using the tangent function, the tangent of 45 degrees is equal to the height of the lighthouse divided by the distance from the second ship to the lighthouse. Since the tangent of 45 degrees is 1, the distance is simply 100 meters divided by 1, which equals 100 meters.\\n\\nFinally, to find the total distance between the two ships, I'll add the distances from each ship to the lighthouse. Adding 173.2 meters and 100 meters gives me a total distance of approximately 273.2 meters.\\n</think>\\n\\n**Solution:**\\n\\nWe are given a lighthouse of height \\\\( h = 100 \\\\) meters, with two ships observing the top of the lighthouse at angles of elevation of \\\\( 30^\\\\circ \\\\) and \\\\( 45^\\\\circ \\\\). We need to find the distance between the two ships.\\n\\n1. **Determine the distance from each ship to the base of the lighthouse:**\\n\\n   - **For the first ship (angle of elevation = \\\\( 30^\\\\circ \\\\)):**\\n     \\n     \\\\[\\n     \\\\tan(30^\\\\circ) = \\\\frac{h}{d_1} \\\\implies d_1 = \\\\frac{h}{\\\\tan(30^\\\\circ)} = \\\\frac{100}{\\\\frac{1}{\\\\sqrt{3}}} = 100 \\\\sqrt{3} \\\\approx 173.2 \\\\text{ meters}\\n     \\\\]\\n     \\n   - **For the second ship (angle of elevation = \\\\( 45^\\\\circ \\\\)):**\\n     \\n     \\\\[\\n     \\\\tan(45^\\\\circ) = \\\\frac{h}{d_2} \\\\implies d_2 = \\\\frac{h}{\\\\tan(45^\\\\circ)} = \\\\frac{100}{1} = 100 \\\\text{ meters}\\n     \\\\]\\n\\n2. **Calculate the total distance between the two ships:**\\n\\n   Since the ships are on opposite sides of the lighthouse, the total distance \\\\( D \\\\) between them is the sum of \\\\( d_1 \\\\) and \\\\( d_2 \\\\):\\n\\n   \\\\[\\n   D = d_1 + d_2 = 100 \\\\sqrt{3} + 100 \\\\approx 173.2 + 100 = 273.2 \\\\text{ meters}\\n   \\\\]\\n\\n**Final Answer:**\\n\\n\\\\[\\n\\\\boxed{273.2}\\n\\\\]\", additional_kwargs={'refusal': None}, response_metadata={'token_usage': {'completion_tokens': 684, 'prompt_tokens': 80, 'total_tokens': 764, 'completion_tokens_details': None, 'prompt_tokens_details': None}, 'model_name': 'deepseek-ai/DeepSeek-R1-Distill-Llama-70B', 'system_fingerprint': None, 'finish_reason': 'stop', 'logprobs': None}, id='run-0d6f490c-a33a-4e43-8c0a-cac854483e27-0', usage_metadata={'input_tokens': 80, 'output_tokens': 684, 'total_tokens': 764, 'input_token_details': {}, 'output_token_details': {}})"
      ]
     },
     "execution_count": 68,
     "metadata": {},
     "output_type": "execute_result"
    }
   ],
   "source": [
    "from openai import OpenAI\n",
    "import json, os\n",
    "from langchain_core.tools import tool\n",
    "from pydantic import BaseModel, Field\n",
    "\n",
    "\n",
    "class GetWeather(BaseModel):\n",
    "    \"\"\"Get the current weather in a given location\"\"\"\n",
    "\n",
    "    location: str = Field(..., description=\"The city and state, e.g. San Francisco, CA\")\n",
    "\n",
    "def get_weather(location: str, unit: str):\n",
    "    return f\"Getting the weather for {location} in {unit}...\"\n",
    "tool_functions = {\"get_weather\": get_weather}\n",
    "\n",
    "weather_tools = [{\n",
    "    \"type\": \"function\",\n",
    "    \"function\": {\n",
    "        \"name\": \"get_weather\",\n",
    "        \"description\": \"Get the current weather in a given location\",\n",
    "        \"parameters\": {\n",
    "            \"type\": \"object\",\n",
    "            \"properties\": {\n",
    "                \"location\": {\"type\": \"string\", \"description\": \"City and state, e.g., 'San Francisco, CA'\"},\n",
    "                \"unit\": {\"type\": \"string\", \"enum\": [\"celsius\", \"fahrenheit\"]}\n",
    "            },\n",
    "            \"required\": [\"location\", \"unit\"]\n",
    "        }\n",
    "    }\n",
    "}]\n",
    "\n",
    "messages = [\n",
    "    (\n",
    "        \"system\",\n",
    "        \"You are a helpful assistant who can answer question accurately and truthfully\",\n",
    "    ),\n",
    "    (\"human\", \"Two ships are sailing in the sea on the two sides of a lighthouse. The angle of elevation of the top of the lighthouse is observed from the ships are 30º and 45º respectively. If the lighthouse is 100 m high, what is the distance between the two ships in decimal number?\"),\n",
    "]\n",
    "\n",
    "  \n",
    "#response = llm_local.bind_tools([GetWeather]).invoke(messages)\n",
    "response = llm_local.invoke(messages)\n",
    "response"
   ]
  },
  {
   "cell_type": "code",
   "execution_count": null,
   "id": "4dd7ad11-ad2a-46b6-a0f1-b5119257d110",
   "metadata": {},
   "outputs": [],
   "source": []
  },
  {
   "cell_type": "markdown",
   "id": "fb0c2a6a-0b9e-49cb-85f6-53155f33e062",
   "metadata": {},
   "source": [
    "## Alternative way to call ocal deepseek r1"
   ]
  },
  {
   "cell_type": "markdown",
   "id": "ed0d9f62-53d3-4a81-ab2d-f0092a3ec532",
   "metadata": {},
   "source": [
    "# simulate an API that can be called\n",
    "def get_current_weather(city: str, state: str, unit: 'str'):\n",
    "    return (f\"The weather in {city}, {state} is 85 degrees {unit}. It is \"\n",
    "            \"partly cloudly, with highs in the 90's.\")\n",
    "\n",
    "tool_funtions = {\"get_current_weather\": get_current_weather}\n",
    "\n",
    "tools = [{\n",
    "    \"type\": \"function\",\n",
    "    \"function\": {\n",
    "        \"name\": \"get_current_weather\",\n",
    "        \"description\": \"Get the current weather in a given location\",\n",
    "        \"parameters\": {\n",
    "            \"type\": \"object\",\n",
    "            \"properties\": {\n",
    "                \"city\": {\n",
    "                    \"type\":\n",
    "                    \"string\",\n",
    "                    \"description\":\n",
    "                    \"The city to find the weather for, e.g. 'San Francisco'\"\n",
    "                },\n",
    "                \"state\": {\n",
    "                    \"type\":\n",
    "                    \"string\",\n",
    "                    \"description\":\n",
    "                    \"the two-letter abbreviation for the state that the city is\"\n",
    "                    \" in, e.g. 'CA' which would mean 'California'\"\n",
    "                },\n",
    "                \"unit\": {\n",
    "                    \"type\": \"string\",\n",
    "                    \"description\": \"The unit to fetch the temperature in\",\n",
    "                    \"enum\": [\"celsius\", \"fahrenheit\"]\n",
    "                }\n",
    "            },\n",
    "            \"required\": [\"city\", \"state\", \"unit\"]\n",
    "        }\n",
    "    }\n",
    "}]"
   ]
  },
  {
   "cell_type": "markdown",
   "id": "465812b0-4e67-4888-9396-feb8447a43ce",
   "metadata": {},
   "source": [
    "### Use OpenAI's OpenAI"
   ]
  },
  {
   "cell_type": "markdown",
   "id": "55058149-a147-4cf7-bc4a-077536eacaa7",
   "metadata": {},
   "source": [
    "prompt2 = \"What is the current weather in SF?\"\n",
    "r1_client = OpenAI(\n",
    "    api_key=DEEPSEEK_API_KEY,\n",
    "    base_url=LOCAL_API_URL,\n",
    ")\n",
    "\n",
    "chat_response = r1_client.chat.completions.create(\n",
    "    model=LOCAL_MODEL,\n",
    "    messages=[\n",
    "        {\"role\": \"system\", \"content\": \"You are a helpful assistant. Please answer the user question accurately and truthfully. Also please make sure to think carefully before answering\"},\n",
    "        {\"role\": \"user\", \"content\": prompt2},\n",
    "    ],\n",
    "    stream=False,\n",
    "    temperature=0.0,\n",
    "    max_tokens=2048,\n",
    "    top_p=0.95\n",
    ")\n",
    "usages = f'Completion_toekns: {chat_response.usage.completion_tokens}, Prompt_tokens: {chat_response.usage.prompt_tokens},  Total_tokens:{chat_response.usage.total_tokens}'\n",
    "chat_response.choices[0].message.content, usages"
   ]
  },
  {
   "cell_type": "markdown",
   "id": "e3a3c620-7d31-4d05-80c9-d1bbd6aa6797",
   "metadata": {},
   "source": [
    "### Use Langgraph's ChatOpenAI"
   ]
  },
  {
   "cell_type": "code",
   "execution_count": 36,
   "id": "56bd56d3-eea1-42d0-9183-83380efc3296",
   "metadata": {},
   "outputs": [
    {
     "data": {
      "text/plain": [
       "AIMessage(content='<think>\\nOkay, so the user is asking about the results of Trump\\'s latest phone call with Canada\\'s prime minister. Hmm, first off, I need to make sure I have the correct information. Wait, Trump isn\\'t the current president anymore; he was the 45th president, and now Biden is in office. So, maybe the user made a mistake and meant Biden instead of Trump? Or perhaps they\\'re referring to a past call during Trump\\'s presidency?\\n\\nAlso, the user wrote \"priminster\" which I think is a typo for \"prime minister.\" Canada\\'s prime minister is Justin Trudeau. So, I should consider that correction in my response.\\n\\nI don\\'t have access to real-time information, so I can\\'t provide the latest updates. But I can suggest where the user might find this information. They can check reliable news sources or official government websites for any recent statements or press releases about such calls.\\n\\nI should make sure to clarify the potential mix-up between Trump and Biden and offer helpful suggestions on where to find the information they\\'re looking for. Maybe also mention that if they have a specific date or context in mind, that could help narrow down the search.\\n</think>\\n\\nIt seems there might be some confusion in your question. Donald Trump is no longer in office as the President of the United States; Joe Biden is the current president. If you are referring to a recent call between President Biden and Canadian Prime Minister Justin Trudeau, I don\\'t have real-time information to provide details about their latest discussions.\\n\\nFor the most accurate and up-to-date information, I recommend checking reliable news sources or official government websites that release statements on such diplomatic communications. If you have a specific date or context in mind, that could help in finding the relevant information.', additional_kwargs={'refusal': None}, response_metadata={'token_usage': {'completion_tokens': 355, 'prompt_tokens': 64, 'total_tokens': 419, 'completion_tokens_details': None, 'prompt_tokens_details': None}, 'model_name': 'deepseek-ai/DeepSeek-R1-Distill-Llama-70B', 'system_fingerprint': None, 'finish_reason': 'stop', 'logprobs': None}, id='run-a2dd364f-d04f-4bdd-9997-8fa215a8d38e-0', usage_metadata={'input_tokens': 64, 'output_tokens': 355, 'total_tokens': 419, 'input_token_details': {}, 'output_token_details': {}})"
      ]
     },
     "execution_count": 36,
     "metadata": {},
     "output_type": "execute_result"
    }
   ],
   "source": [
    "messages = [\n",
    "    SystemMessage(\n",
    "        content=\"You are a smart assistant. Use the tools to solve a user problem. \\\n",
    "You are allowed to make multiple calls (either together or in sequence). \\\n",
    "Think carefully before answering the question to make sure the result is correct.\"\n",
    "    ),\n",
    "    HumanMessage(\n",
    "        content=\"WHat was the results of Trump's latest phone call with Canada's priminster?\" #\"what is (3*3.45+5**2.435)?\"\n",
    "    ),\n",
    "]\n",
    "#repsone = llm_local.invoke(messages)\n",
    "#response = llm_local.bind_tools(tools, tool_choice=\"auto\").invoke(messages)\n",
    "response = llm_local.bind_tools([search]).invoke(messages)\n",
    "response"
   ]
  },
  {
   "cell_type": "markdown",
   "id": "3a0c58b6-4cda-45f9-aa72-576fccfba75b",
   "metadata": {},
   "source": [
    "### Using langchain tools"
   ]
  },
  {
   "cell_type": "code",
   "execution_count": 37,
   "id": "52bc32ed-3f8a-46cc-8956-f8f90fd76ce4",
   "metadata": {},
   "outputs": [
    {
     "name": "stderr",
     "output_type": "stream",
     "text": [
      "/home/alfred/anaconda3/envs/medf/lib/python3.11/site-packages/langsmith/client.py:323: LangSmithMissingAPIKeyWarning: API key must be provided when using hosted LangSmith API\n",
      "  warnings.warn(\n"
     ]
    }
   ],
   "source": [
    "from langchain.agents import AgentExecutor, create_openai_functions_agent\n",
    "from langchain import hub\n",
    "\n",
    "instructions = \"\"\"You are an seasoned assistant.Please think and answer user question truefully.\"\"\"\n",
    "base_prompt = hub.pull(\"langchain-ai/openai-functions-template\")\n",
    "prompt = base_prompt.partial(instructions=instructions)\n",
    "\n",
    "agent = create_openai_functions_agent(llm_local, tools, prompt)\n",
    "agent_executor = AgentExecutor(\n",
    "    agent=agent,\n",
    "    tools=tools,\n",
    "    verbose=True,\n",
    ")"
   ]
  },
  {
   "cell_type": "code",
   "execution_count": 38,
   "id": "a72b85f8-6759-46ce-ae1e-94f6f5057cdc",
   "metadata": {},
   "outputs": [
    {
     "data": {
      "text/plain": [
       "AgentExecutor(verbose=True, agent=RunnableAgent(runnable=RunnableAssign(mapper={\n",
       "  agent_scratchpad: RunnableLambda(lambda x: format_to_openai_function_messages(x['intermediate_steps']))\n",
       "})\n",
       "| ChatPromptTemplate(input_variables=['agent_scratchpad', 'input'], optional_variables=['chat_history'], input_types={'chat_history': list[typing.Annotated[typing.Union[typing.Annotated[langchain_core.messages.ai.AIMessage, Tag(tag='ai')], typing.Annotated[langchain_core.messages.human.HumanMessage, Tag(tag='human')], typing.Annotated[langchain_core.messages.chat.ChatMessage, Tag(tag='chat')], typing.Annotated[langchain_core.messages.system.SystemMessage, Tag(tag='system')], typing.Annotated[langchain_core.messages.function.FunctionMessage, Tag(tag='function')], typing.Annotated[langchain_core.messages.tool.ToolMessage, Tag(tag='tool')], typing.Annotated[langchain_core.messages.ai.AIMessageChunk, Tag(tag='AIMessageChunk')], typing.Annotated[langchain_core.messages.human.HumanMessageChunk, Tag(tag='HumanMessageChunk')], typing.Annotated[langchain_core.messages.chat.ChatMessageChunk, Tag(tag='ChatMessageChunk')], typing.Annotated[langchain_core.messages.system.SystemMessageChunk, Tag(tag='SystemMessageChunk')], typing.Annotated[langchain_core.messages.function.FunctionMessageChunk, Tag(tag='FunctionMessageChunk')], typing.Annotated[langchain_core.messages.tool.ToolMessageChunk, Tag(tag='ToolMessageChunk')]], FieldInfo(annotation=NoneType, required=True, discriminator=Discriminator(discriminator=<function _get_type at 0x7f6022eec860>, custom_error_type=None, custom_error_message=None, custom_error_context=None))]], 'agent_scratchpad': list[typing.Annotated[typing.Union[typing.Annotated[langchain_core.messages.ai.AIMessage, Tag(tag='ai')], typing.Annotated[langchain_core.messages.human.HumanMessage, Tag(tag='human')], typing.Annotated[langchain_core.messages.chat.ChatMessage, Tag(tag='chat')], typing.Annotated[langchain_core.messages.system.SystemMessage, Tag(tag='system')], typing.Annotated[langchain_core.messages.function.FunctionMessage, Tag(tag='function')], typing.Annotated[langchain_core.messages.tool.ToolMessage, Tag(tag='tool')], typing.Annotated[langchain_core.messages.ai.AIMessageChunk, Tag(tag='AIMessageChunk')], typing.Annotated[langchain_core.messages.human.HumanMessageChunk, Tag(tag='HumanMessageChunk')], typing.Annotated[langchain_core.messages.chat.ChatMessageChunk, Tag(tag='ChatMessageChunk')], typing.Annotated[langchain_core.messages.system.SystemMessageChunk, Tag(tag='SystemMessageChunk')], typing.Annotated[langchain_core.messages.function.FunctionMessageChunk, Tag(tag='FunctionMessageChunk')], typing.Annotated[langchain_core.messages.tool.ToolMessageChunk, Tag(tag='ToolMessageChunk')]], FieldInfo(annotation=NoneType, required=True, discriminator=Discriminator(discriminator=<function _get_type at 0x7f6022eec860>, custom_error_type=None, custom_error_message=None, custom_error_context=None))]]}, partial_variables={'chat_history': [], 'instructions': 'You are an seasoned assistant.Please think and answer user question truefully.'}, metadata={'lc_hub_owner': 'langchain-ai', 'lc_hub_repo': 'openai-functions-template', 'lc_hub_commit_hash': 'b4198088b0f11cbe911a9e1cb6546893c00283b6cf0f80ae003b3955efdfe281'}, messages=[SystemMessagePromptTemplate(prompt=PromptTemplate(input_variables=['instructions'], input_types={}, partial_variables={}, template='{instructions}'), additional_kwargs={}), MessagesPlaceholder(variable_name='chat_history', optional=True), HumanMessagePromptTemplate(prompt=PromptTemplate(input_variables=['input'], input_types={}, partial_variables={}, template='{input}'), additional_kwargs={}), MessagesPlaceholder(variable_name='agent_scratchpad')])\n",
       "| RunnableBinding(bound=ChatOpenAI(client=<openai.resources.chat.completions.Completions object at 0x7f5fa1ae1890>, async_client=<openai.resources.chat.completions.AsyncCompletions object at 0x7f5fa1ae6010>, root_client=<openai.OpenAI object at 0x7f5fa4d5ed90>, root_async_client=<openai.AsyncOpenAI object at 0x7f5fa1ae1810>, model_name='deepseek-ai/DeepSeek-R1-Distill-Llama-70B', temperature=0.2, model_kwargs={}, openai_api_key=SecretStr('**********'), openai_api_base='http://agent.cavatar.info:8080/v1', max_tokens=1024), kwargs={'functions': [{'name': 'multiply', 'description': \"Multiply 'x' times 'y'.\", 'parameters': {'properties': {'x': {'type': 'number'}, 'y': {'type': 'number'}}, 'required': ['x', 'y'], 'type': 'object'}}, {'name': 'exponentiate', 'description': \"Raise 'x' to the 'y'.\", 'parameters': {'properties': {'x': {'type': 'number'}, 'y': {'type': 'number'}}, 'required': ['x', 'y'], 'type': 'object'}}, {'name': 'add', 'description': \"Add 'x' and 'y'.\", 'parameters': {'properties': {'x': {'type': 'number'}, 'y': {'type': 'number'}}, 'required': ['x', 'y'], 'type': 'object'}}]}, config={}, config_factories=[])\n",
       "| OpenAIFunctionsAgentOutputParser(), input_keys_arg=[], return_keys_arg=[], stream_runnable=True), tools=[StructuredTool(name='multiply', description=\"Multiply 'x' times 'y'.\", args_schema=<class 'langchain_core.utils.pydantic.multiply'>, func=<function multiply at 0x7f5f9fdd1da0>), StructuredTool(name='exponentiate', description=\"Raise 'x' to the 'y'.\", args_schema=<class 'langchain_core.utils.pydantic.exponentiate'>, func=<function exponentiate at 0x7f5f9fdd1f80>), StructuredTool(name='add', description=\"Add 'x' and 'y'.\", args_schema=<class 'langchain_core.utils.pydantic.add'>, func=<function add at 0x7f5f9fdd2700>)])"
      ]
     },
     "execution_count": 38,
     "metadata": {},
     "output_type": "execute_result"
    }
   ],
   "source": [
    "agent_executor"
   ]
  },
  {
   "cell_type": "markdown",
   "id": "f4fe4fe2-4f64-469e-83ac-77f60a77f808",
   "metadata": {},
   "source": [
    "### Using Langchain "
   ]
  },
  {
   "cell_type": "code",
   "execution_count": 47,
   "id": "57a5c7d5-21fd-4a73-8c38-4c716f75b79d",
   "metadata": {},
   "outputs": [
    {
     "data": {
      "text/plain": [
       "\"I apologize, but I cannot find the specific closing price for AMZN stock in the provided context. While the context contains various financial information and news about Amazon, it does not include today's specific stock closing price.\""
      ]
     },
     "execution_count": 47,
     "metadata": {},
     "output_type": "execute_result"
    }
   ],
   "source": [
    "from langchain_community.retrievers import TavilySearchAPIRetriever\n",
    "from langchain_core.output_parsers import StrOutputParser\n",
    "from langchain_core.prompts import ChatPromptTemplate\n",
    "from langchain_core.runnables import RunnablePassthrough\n",
    "\n",
    "retriever = TavilySearchAPIRetriever(k=5)\n",
    "\n",
    "query = \"what is AMZN stock closing price today?\"\n",
    "\n",
    "prompt = ChatPromptTemplate.from_template(\n",
    "        \"\"\"Answer the question based only on the context provided.\n",
    "    \n",
    "    Context: {context}\n",
    "    \n",
    "    Question: {question}\"\"\"\n",
    "    )\n",
    "\n",
    "\n",
    "def format_docs(docs):\n",
    "    return \"\\n\\n\".join(doc.page_content for doc in docs)\n",
    "\n",
    "\n",
    "chain = (\n",
    "    {\"context\": retriever | format_docs, \"question\": RunnablePassthrough()}\n",
    "    | prompt\n",
    "    | llm_chat_conv\n",
    "    | StrOutputParser()\n",
    ")\n",
    "response = chain.invoke(query)\n",
    "response"
   ]
  },
  {
   "cell_type": "code",
   "execution_count": null,
   "id": "9b611bf3-c282-43c5-82fc-94e2590273db",
   "metadata": {},
   "outputs": [],
   "source": []
  },
  {
   "cell_type": "markdown",
   "id": "73176169-a16b-4a2c-8fa6-b03e36910726",
   "metadata": {},
   "source": [
    "## Tool\n",
    "tool = TavilySearchResults(max_results=4)\n",
    "\n",
    "## Agent\n",
    "agent2 = Agent(llm, [tool], system=prompt)"
   ]
  },
  {
   "cell_type": "code",
   "execution_count": null,
   "id": "71457391-0a92-44b7-952d-fd2db6ffcb11",
   "metadata": {},
   "outputs": [],
   "source": []
  },
  {
   "cell_type": "code",
   "execution_count": null,
   "id": "ef3abb04-437f-41d7-a284-28dd35ad065e",
   "metadata": {},
   "outputs": [],
   "source": [
    "## Graph display"
   ]
  },
  {
   "cell_type": "code",
   "execution_count": 25,
   "id": "5b9aeda8-2b46-4167-8f21-2784cc80db0c",
   "metadata": {},
   "outputs": [
    {
     "data": {
      "image/png": "[encoded data removed]",
      "text/plain": [
       "<IPython.core.display.Image object>"
      ]
     },
     "execution_count": 25,
     "metadata": {},
     "output_type": "execute_result"
    }
   ],
   "source": [
    "from IPython.display import Image\n",
    "\n",
    "Image(agent.graph.get_graph().draw_png())"
   ]
  },
  {
   "cell_type": "code",
   "execution_count": 26,
   "id": "8000cc32-4b87-4545-a5e4-ec3774ab2e4c",
   "metadata": {},
   "outputs": [],
   "source": [
    "## Analyze"
   ]
  },
  {
   "cell_type": "code",
   "execution_count": 27,
   "id": "037e4eeb-ad64-450e-acc5-cd38ff504fd8",
   "metadata": {},
   "outputs": [
    {
     "name": "stdout",
     "output_type": "stream",
     "text": [
      "{'messages': [HumanMessage(content=\"what's 3*3.12 plus 5 raised to the 2.743?\", additional_kwargs={}, response_metadata={}), AIMessage(content=\"<think>\\nFirst, I need to calculate 3 multiplied by 3.12. Multiplying these two numbers gives me 9.36.\\n\\nNext, I'll calculate 5 raised to the power of 2.743. Using a calculator, 5^2.743 is approximately 34.36.\\n\\nFinally, I'll add the two results together: 9.36 plus 34.36 equals 43.72.\\n</think>\\n\\nSure! Let's break down the calculation step by step.\\n\\n**Given:**\\n\\\\[ 3 \\\\times 3.12 + 5^{2.743} \\\\]\\n\\n**Step 1: Calculate \\\\( 3 \\\\times 3.12 \\\\)**\\n\\\\[\\n3 \\\\times 3.12 = 9.36\\n\\\\]\\n\\n**Step 2: Calculate \\\\( 5^{2.743} \\\\)**\\n\\\\[\\n5^{2.743} \\\\approx 34.36\\n\\\\]\\n\\n**Step 3: Add the results from Step 1 and Step 2**\\n\\\\[\\n9.36 + 34.36 = 43.72\\n\\\\]\\n\\n**Final Answer:**\\n\\\\[\\n\\\\boxed{43.72}\\n\\\\]\", additional_kwargs={'refusal': None}, response_metadata={'token_usage': {'completion_tokens': 246, 'prompt_tokens': 87, 'total_tokens': 333, 'completion_tokens_details': None, 'prompt_tokens_details': None}, 'model_name': 'deepseek-ai/DeepSeek-R1-Distill-Llama-70B', 'system_fingerprint': None, 'finish_reason': 'stop', 'logprobs': None}, id='run-0e56f16b-a782-426a-bd82-8c7bcd12f2a4-0', usage_metadata={'input_tokens': 87, 'output_tokens': 246, 'total_tokens': 333, 'input_token_details': {}, 'output_token_details': {}})]}\n"
     ]
    }
   ],
   "source": [
    "question = \"what's 3*3.12 plus 5 raised to the 2.743?\"\n",
    "messages = [HumanMessage(content=question)]\n",
    "result = agent.graph.invoke({\"messages\": messages})\n",
    "print(result)"
   ]
  },
  {
   "cell_type": "code",
   "execution_count": 35,
   "id": "dda2f6e1-d1dc-42b6-b5db-033897367591",
   "metadata": {},
   "outputs": [
    {
     "name": "stdout",
     "output_type": "stream",
     "text": [
      "'Finished running: llm:'\n",
      "{'messages': [AIMessage(content=\"Okay, so I need to calculate 3 multiplied by 3.12 plus 5 raised to the power of 2.743. Hmm, let me break this down step by step. \\n\\nFirst, I'll tackle the multiplication part: 3 times 3.12. I know that 3 times 3 is 9, and 3 times 0.12 is 0.36. So adding those together, 9 plus 0.36 gives me 9.36. That seems straightforward.\\n\\nNext, I need to calculate 5 raised to the power of 2.743. Exponents can be tricky, especially when they're not whole numbers. I remember that 5 squared is 25, and 5 cubed is 125. Since 2.743 is between 2 and 3, the result should be somewhere between 25 and 125. \\n\\nTo get a more precise value, I might need to use logarithms or a calculator, but since I don't have a calculator handy, I'll try to approximate it. I know that 5^2.743 can be expressed as e^(2.743 * ln(5)). The natural logarithm of 5 is approximately 1.6094. Multiplying that by 2.743 gives me roughly 4.417. So, e^4.417 is approximately equal to 83.3. Wait, that doesn't seem right because e^4 is about 54.598, and e^4.4 is around 81.45. So maybe my approximation is a bit off, but it's in the ballpark.\\n\\nNow, adding the two results together: 9.36 plus approximately 83.3 gives me around 92.66. I think that's the answer, but I'm not entirely sure about the exponent part. Maybe I should double-check the exponent calculation with a more accurate method or a calculator if possible.\\n</think>\\n\\nTo solve the expression \\\\(3 \\\\times 3.12 + 5^{2.743}\\\\), we break it down into two parts:\\n\\n1. **Multiplication:**\\n   \\\\[\\n   3 \\\\times 3.12 = 9.36\\n   \\\\]\\n\\n2. **Exponentiation:**\\n   \\\\[\\n   5^{2.743} \\\\approx 83.3\\n   \\\\]\\n\\n3. **Addition:**\\n   \\\\[\\n   9.36 + 83.3 = 92.66\\n   \\\\]\\n\\n**Answer:** The result of the expression is approximately 92.66.\", additional_kwargs={'refusal': None}, response_metadata={'token_usage': {'completion_tokens': 531, 'prompt_tokens': 96, 'total_tokens': 627, 'completion_tokens_details': None, 'prompt_tokens_details': None}, 'model_name': 'deepseek-ai/DeepSeek-R1-Distill-Llama-70B', 'system_fingerprint': None, 'finish_reason': 'stop', 'logprobs': None}, id='run-4f48b651-b9a9-4e7a-b91e-0fc9a1f9af6d-0', usage_metadata={'input_tokens': 96, 'output_tokens': 531, 'total_tokens': 627, 'input_token_details': {}, 'output_token_details': {}})]}\n"
     ]
    }
   ],
   "source": [
    "from pprint import pprint\n",
    "\n",
    "inputs = {\"messages\":[HumanMessage(content=question)]}\n",
    "for output in agent.graph.stream(inputs, {\"recursion_limit\": 6}):\n",
    "    for key, value in output.items():\n",
    "        pprint(f\"Finished running: {key}:\")\n",
    "pprint(value)"
   ]
  },
  {
   "cell_type": "code",
   "execution_count": 36,
   "id": "04c6aa1a-dcf5-4a07-ae7a-7d40459f9bbc",
   "metadata": {},
   "outputs": [
    {
     "data": {
      "text/markdown": [
       "Okay, so I need to calculate 3 multiplied by 3.12 plus 5 raised to the power of 2.743. Hmm, let me break this down step by step. \n",
       "\n",
       "First, I'll tackle the multiplication part: 3 times 3.12. I know that 3 times 3 is 9, and 3 times 0.12 is 0.36. So adding those together, 9 plus 0.36 gives me 9.36. That seems straightforward.\n",
       "\n",
       "Next, I need to calculate 5 raised to the power of 2.743. Exponents can be tricky, especially when they're not whole numbers. I remember that 5 squared is 25, and 5 cubed is 125. Since 2.743 is between 2 and 3, the result should be somewhere between 25 and 125. \n",
       "\n",
       "To get a more precise value, I might need to use logarithms or a calculator, but since I don't have a calculator handy, I'll try to estimate it. I know that 5^2.743 can be expressed as e^(2.743 * ln(5)). The natural logarithm of 5 is approximately 1.6094. Multiplying that by 2.743 gives me roughly 4.418. So, e^4.418 is approximately equal to 83.3. Wait, that doesn't seem right because e^4 is about 54.6, and e^4.418 should be a bit higher, maybe around 83.3. \n",
       "\n",
       "But I'm not entirely sure about that estimation. Maybe I should double-check. Alternatively, I could use the fact that 5^2.743 is the same as 5^(2 + 0.743) which is 5^2 * 5^0.743. I know 5^2 is 25, and 5^0.743 can be approximated. Since 5^0.7 is roughly 3.007, and 5^0.043 is about 1.093, multiplying those gives approximately 3.007 * 1.093 ≈ 3.29. So, 25 * 3.29 is about 82.25. That's close to my previous estimate of 83.3, so maybe around 82.25.\n",
       "\n",
       "Now, adding the two parts together: 9.36 plus 82.25. That should be 91.61. Wait, but earlier I thought 5^2.743 was around 83.3, so adding 9.36 would make it 92.66. Hmm, there's a slight discrepancy here. Maybe my estimation of 5^0.743 was a bit off. \n",
       "\n",
       "I think it's better to use a calculator for more accuracy, but since I can't, I'll average the two estimates. So, 82.25 plus 9.36 is 91.61, and 83.3 plus 9.36 is 92.66. The average would be around 92.13. But I'm not entirely confident without a calculator. \n",
       "\n",
       "Wait, maybe I made a mistake in the exponent calculation. Let me try another approach. I recall that 5^2.743 can be calculated using the formula a^b = e^(b*ln(a)). So, ln(5) is approximately 1.6094, multiplied by 2.743 gives about 4.418. Now, e^4.418 is approximately 83.3. So, 5^2.743 ≈ 83.3. Adding that to 9.36 gives 92.66. \n",
       "\n",
       "I think that's a reasonable estimate. So, the final result should be approximately 92.66.\n",
       "</think>\n",
       "\n",
       "The result of the calculation is approximately 92.66. \n",
       "\n",
       "Step-by-Step Explanation:\n",
       "\n",
       "1. Calculate 3 × 3.12:\n",
       "   - 3 × 3 = 9\n",
       "   - 3 × 0.12 = 0.36\n",
       "   - Total = 9 + 0.36 = 9.36\n",
       "\n",
       "2. Calculate 5 raised to the power of 2.743:\n",
       "   - Using logarithms: 5^2.743 ≈ e^(2.743 × ln(5)) ≈ e^(4.418) ≈ 83.3\n",
       "\n",
       "3. Add the two results:\n",
       "   - 9.36 + 83.3 ≈ 92.66\n",
       "\n",
       "Final Answer: Approximately 92.66"
      ],
      "text/plain": [
       "<IPython.core.display.Markdown object>"
      ]
     },
     "metadata": {},
     "output_type": "display_data"
    }
   ],
   "source": [
    "from IPython.display import Markdown\n",
    "display(Markdown(result[\"messages\"][-1].content))"
   ]
  },
  {
   "cell_type": "code",
   "execution_count": null,
   "id": "f6f73bca-7b29-49fc-8b90-a51b34ad10e1",
   "metadata": {},
   "outputs": [],
   "source": []
  }
 ],
 "metadata": {
  "kernelspec": {
   "display_name": "medf",
   "language": "python",
   "name": "medf"
  },
  "language_info": {
   "codemirror_mode": {
    "name": "ipython",
    "version": 3
   },
   "file_extension": ".py",
   "mimetype": "text/x-python",
   "name": "python",
   "nbconvert_exporter": "python",
   "pygments_lexer": "ipython3",
   "version": "3.11.5"
  }
 },
 "nbformat": 4,
 "nbformat_minor": 5
}
